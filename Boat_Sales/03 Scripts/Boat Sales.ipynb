{
 "cells": [
  {
   "cell_type": "markdown",
   "id": "bee8f9cd",
   "metadata": {},
   "source": [
    "# 01. Importing Libraries"
   ]
  },
  {
   "cell_type": "code",
   "execution_count": 1,
   "id": "5c9a5cab",
   "metadata": {},
   "outputs": [],
   "source": [
    "#import libraries\n",
    "\n",
    "import pandas as pd\n",
    "import numpy as np\n",
    "import os\n",
    "from scipy import stats\n",
    "import seaborn as sns\n",
    "import matplotlib.pyplot as plt"
   ]
  },
  {
   "cell_type": "markdown",
   "id": "435afb5c",
   "metadata": {},
   "source": [
    "# 02. Importing Data"
   ]
  },
  {
   "cell_type": "code",
   "execution_count": 2,
   "id": "ca87f84e",
   "metadata": {},
   "outputs": [],
   "source": [
    "#importing data (orders)\n",
    "df = pd.read_csv(r'C:\\Users\\User\\OneDrive\\Dokumentumok\\CF\\Achievement 6\\Boat_Sales\\boat_data.csv')"
   ]
  },
  {
   "cell_type": "code",
   "execution_count": 3,
   "id": "8da8eb0c",
   "metadata": {},
   "outputs": [
    {
     "data": {
      "text/html": [
       "<div>\n",
       "<style scoped>\n",
       "    .dataframe tbody tr th:only-of-type {\n",
       "        vertical-align: middle;\n",
       "    }\n",
       "\n",
       "    .dataframe tbody tr th {\n",
       "        vertical-align: top;\n",
       "    }\n",
       "\n",
       "    .dataframe thead th {\n",
       "        text-align: right;\n",
       "    }\n",
       "</style>\n",
       "<table border=\"1\" class=\"dataframe\">\n",
       "  <thead>\n",
       "    <tr style=\"text-align: right;\">\n",
       "      <th></th>\n",
       "      <th>Price</th>\n",
       "      <th>Boat Type</th>\n",
       "      <th>Manufacturer</th>\n",
       "      <th>Type</th>\n",
       "      <th>Year Built</th>\n",
       "      <th>Length</th>\n",
       "      <th>Width</th>\n",
       "      <th>Material</th>\n",
       "      <th>Location</th>\n",
       "      <th>Number of views last 7 days</th>\n",
       "    </tr>\n",
       "  </thead>\n",
       "  <tbody>\n",
       "    <tr>\n",
       "      <th>0</th>\n",
       "      <td>CHF 3337</td>\n",
       "      <td>Motor Yacht</td>\n",
       "      <td>Rigiflex power boats</td>\n",
       "      <td>new boat from stock</td>\n",
       "      <td>2017</td>\n",
       "      <td>4.00</td>\n",
       "      <td>1.90</td>\n",
       "      <td>NaN</td>\n",
       "      <td>Switzerland Â» Lake Geneva Â» VÃ©senaz</td>\n",
       "      <td>226</td>\n",
       "    </tr>\n",
       "    <tr>\n",
       "      <th>1</th>\n",
       "      <td>EUR 3490</td>\n",
       "      <td>Center console boat</td>\n",
       "      <td>Terhi power boats</td>\n",
       "      <td>new boat from stock</td>\n",
       "      <td>2020</td>\n",
       "      <td>4.00</td>\n",
       "      <td>1.50</td>\n",
       "      <td>Thermoplastic</td>\n",
       "      <td>Germany Â» BÃ¶nningstedt</td>\n",
       "      <td>75</td>\n",
       "    </tr>\n",
       "    <tr>\n",
       "      <th>2</th>\n",
       "      <td>CHF 3770</td>\n",
       "      <td>Sport Boat</td>\n",
       "      <td>Marine power boats</td>\n",
       "      <td>new boat from stock</td>\n",
       "      <td>0</td>\n",
       "      <td>3.69</td>\n",
       "      <td>1.42</td>\n",
       "      <td>Aluminium</td>\n",
       "      <td>Switzerland Â» Lake of Zurich Â» StÃ¤fa ZH</td>\n",
       "      <td>124</td>\n",
       "    </tr>\n",
       "    <tr>\n",
       "      <th>3</th>\n",
       "      <td>DKK 25900</td>\n",
       "      <td>Sport Boat</td>\n",
       "      <td>Pioner power boats</td>\n",
       "      <td>new boat from stock</td>\n",
       "      <td>2020</td>\n",
       "      <td>3.00</td>\n",
       "      <td>1.00</td>\n",
       "      <td>NaN</td>\n",
       "      <td>Denmark Â» Svendborg</td>\n",
       "      <td>64</td>\n",
       "    </tr>\n",
       "    <tr>\n",
       "      <th>4</th>\n",
       "      <td>EUR 3399</td>\n",
       "      <td>Fishing Boat</td>\n",
       "      <td>Linder power boats</td>\n",
       "      <td>new boat from stock</td>\n",
       "      <td>2019</td>\n",
       "      <td>3.55</td>\n",
       "      <td>1.46</td>\n",
       "      <td>Aluminium</td>\n",
       "      <td>Germany Â» Bayern Â» MÃ¼nchen</td>\n",
       "      <td>58</td>\n",
       "    </tr>\n",
       "  </tbody>\n",
       "</table>\n",
       "</div>"
      ],
      "text/plain": [
       "       Price            Boat Type          Manufacturer                 Type  \\\n",
       "0   CHF 3337          Motor Yacht  Rigiflex power boats  new boat from stock   \n",
       "1   EUR 3490  Center console boat     Terhi power boats  new boat from stock   \n",
       "2   CHF 3770           Sport Boat    Marine power boats  new boat from stock   \n",
       "3  DKK 25900           Sport Boat    Pioner power boats  new boat from stock   \n",
       "4   EUR 3399         Fishing Boat    Linder power boats  new boat from stock   \n",
       "\n",
       "   Year Built  Length  Width       Material  \\\n",
       "0        2017    4.00   1.90            NaN   \n",
       "1        2020    4.00   1.50  Thermoplastic   \n",
       "2           0    3.69   1.42      Aluminium   \n",
       "3        2020    3.00   1.00            NaN   \n",
       "4        2019    3.55   1.46      Aluminium   \n",
       "\n",
       "                                     Location  Number of views last 7 days  \n",
       "0      Switzerland Â» Lake Geneva Â» VÃ©senaz                          226  \n",
       "1                    Germany Â» BÃ¶nningstedt                           75  \n",
       "2  Switzerland Â» Lake of Zurich Â» StÃ¤fa ZH                          124  \n",
       "3                        Denmark Â» Svendborg                           64  \n",
       "4               Germany Â» Bayern Â» MÃ¼nchen                           58  "
      ]
     },
     "execution_count": 3,
     "metadata": {},
     "output_type": "execute_result"
    }
   ],
   "source": [
    "df.head()"
   ]
  },
  {
   "cell_type": "markdown",
   "id": "87750085",
   "metadata": {},
   "source": [
    "# 03. Missing Values"
   ]
  },
  {
   "cell_type": "code",
   "execution_count": 4,
   "id": "75e7867e",
   "metadata": {},
   "outputs": [
    {
     "data": {
      "text/plain": [
       "Price                             0\n",
       "Boat Type                         0\n",
       "Manufacturer                   1338\n",
       "Type                              6\n",
       "Year Built                        0\n",
       "Length                            9\n",
       "Width                            56\n",
       "Material                       1749\n",
       "Location                         36\n",
       "Number of views last 7 days       0\n",
       "dtype: int64"
      ]
     },
     "execution_count": 4,
     "metadata": {},
     "output_type": "execute_result"
    }
   ],
   "source": [
    "#finding missing values\n",
    "df.isna().sum()"
   ]
  },
  {
   "cell_type": "code",
   "execution_count": 5,
   "id": "d3a6d58a",
   "metadata": {},
   "outputs": [],
   "source": [
    "#drop rows with missing values\n",
    "df = df.dropna()"
   ]
  },
  {
   "cell_type": "code",
   "execution_count": 6,
   "id": "58e27bb0",
   "metadata": {},
   "outputs": [
    {
     "name": "stdout",
     "output_type": "stream",
     "text": [
      "<class 'pandas.core.frame.DataFrame'>\n",
      "Index: 7019 entries, 1 to 9887\n",
      "Data columns (total 10 columns):\n",
      " #   Column                       Non-Null Count  Dtype  \n",
      "---  ------                       --------------  -----  \n",
      " 0   Price                        7019 non-null   object \n",
      " 1   Boat Type                    7019 non-null   object \n",
      " 2   Manufacturer                 7019 non-null   object \n",
      " 3   Type                         7019 non-null   object \n",
      " 4   Year Built                   7019 non-null   int64  \n",
      " 5   Length                       7019 non-null   float64\n",
      " 6   Width                        7019 non-null   float64\n",
      " 7   Material                     7019 non-null   object \n",
      " 8   Location                     7019 non-null   object \n",
      " 9   Number of views last 7 days  7019 non-null   int64  \n",
      "dtypes: float64(2), int64(2), object(6)\n",
      "memory usage: 603.2+ KB\n"
     ]
    }
   ],
   "source": [
    "df.info()"
   ]
  },
  {
   "cell_type": "markdown",
   "id": "f1739c48",
   "metadata": {},
   "source": [
    "# 04. Duplicates"
   ]
  },
  {
   "cell_type": "code",
   "execution_count": 7,
   "id": "001d7119",
   "metadata": {},
   "outputs": [
    {
     "data": {
      "text/plain": [
       "(7019, 10)"
      ]
     },
     "execution_count": 7,
     "metadata": {},
     "output_type": "execute_result"
    }
   ],
   "source": [
    "df.shape"
   ]
  },
  {
   "cell_type": "code",
   "execution_count": 8,
   "id": "31352945",
   "metadata": {},
   "outputs": [],
   "source": [
    "#finding duplicates\n",
    "df = df.drop_duplicates()"
   ]
  },
  {
   "cell_type": "code",
   "execution_count": 9,
   "id": "31854027",
   "metadata": {},
   "outputs": [
    {
     "data": {
      "text/plain": [
       "(7019, 10)"
      ]
     },
     "execution_count": 9,
     "metadata": {},
     "output_type": "execute_result"
    }
   ],
   "source": [
    "df.shape"
   ]
  },
  {
   "cell_type": "code",
   "execution_count": 10,
   "id": "80d3c638",
   "metadata": {},
   "outputs": [],
   "source": [
    "#there are no duplicates in the dataframe"
   ]
  },
  {
   "cell_type": "markdown",
   "id": "ca0e47b8",
   "metadata": {},
   "source": [
    "# 05. Outliers"
   ]
  },
  {
   "cell_type": "code",
   "execution_count": 11,
   "id": "09ff7358",
   "metadata": {},
   "outputs": [
    {
     "data": {
      "text/plain": [
       "Index(['Price', 'Boat Type', 'Manufacturer', 'Type', 'Year Built', 'Length',\n",
       "       'Width', 'Material', 'Location', 'Number of views last 7 days'],\n",
       "      dtype='object')"
      ]
     },
     "execution_count": 11,
     "metadata": {},
     "output_type": "execute_result"
    }
   ],
   "source": [
    "df.columns"
   ]
  },
  {
   "cell_type": "code",
   "execution_count": 12,
   "id": "4a856014",
   "metadata": {},
   "outputs": [],
   "source": [
    "#select the numeric columns without 'Number of views last 7 days',\n",
    "#because the very popular boats can generate extrem high views but this is normal\n",
    "df_numeric = df[['Year Built', 'Length', 'Width']]"
   ]
  },
  {
   "cell_type": "code",
   "execution_count": 13,
   "id": "7fe261ef",
   "metadata": {},
   "outputs": [],
   "source": [
    "#finding outliers\n",
    "\n",
    "Q1 = df_numeric.quantile(0.25)\n",
    "Q3 = df_numeric.quantile(0.75)\n",
    "IQR = Q3 - Q1\n",
    "\n",
    "outliers = ((df_numeric < (Q1 - 1.5 * IQR)) | (df_numeric > (Q3 + 1.5 * IQR))).any(axis=1)\n",
    "\n",
    "df_outliers = df_numeric[outliers]"
   ]
  },
  {
   "cell_type": "code",
   "execution_count": 14,
   "id": "ce51ee8d",
   "metadata": {},
   "outputs": [
    {
     "data": {
      "text/html": [
       "<div>\n",
       "<style scoped>\n",
       "    .dataframe tbody tr th:only-of-type {\n",
       "        vertical-align: middle;\n",
       "    }\n",
       "\n",
       "    .dataframe tbody tr th {\n",
       "        vertical-align: top;\n",
       "    }\n",
       "\n",
       "    .dataframe thead th {\n",
       "        text-align: right;\n",
       "    }\n",
       "</style>\n",
       "<table border=\"1\" class=\"dataframe\">\n",
       "  <thead>\n",
       "    <tr style=\"text-align: right;\">\n",
       "      <th></th>\n",
       "      <th>Year Built</th>\n",
       "      <th>Length</th>\n",
       "      <th>Width</th>\n",
       "    </tr>\n",
       "  </thead>\n",
       "  <tbody>\n",
       "    <tr>\n",
       "      <th>2</th>\n",
       "      <td>0</td>\n",
       "      <td>3.69</td>\n",
       "      <td>1.42</td>\n",
       "    </tr>\n",
       "    <tr>\n",
       "      <th>5</th>\n",
       "      <td>0</td>\n",
       "      <td>4.03</td>\n",
       "      <td>1.56</td>\n",
       "    </tr>\n",
       "    <tr>\n",
       "      <th>11</th>\n",
       "      <td>0</td>\n",
       "      <td>4.13</td>\n",
       "      <td>1.41</td>\n",
       "    </tr>\n",
       "    <tr>\n",
       "      <th>15</th>\n",
       "      <td>0</td>\n",
       "      <td>3.88</td>\n",
       "      <td>1.49</td>\n",
       "    </tr>\n",
       "    <tr>\n",
       "      <th>16</th>\n",
       "      <td>0</td>\n",
       "      <td>4.31</td>\n",
       "      <td>1.64</td>\n",
       "    </tr>\n",
       "    <tr>\n",
       "      <th>...</th>\n",
       "      <td>...</td>\n",
       "      <td>...</td>\n",
       "      <td>...</td>\n",
       "    </tr>\n",
       "    <tr>\n",
       "      <th>9844</th>\n",
       "      <td>0</td>\n",
       "      <td>3.99</td>\n",
       "      <td>1.52</td>\n",
       "    </tr>\n",
       "    <tr>\n",
       "      <th>9870</th>\n",
       "      <td>0</td>\n",
       "      <td>4.40</td>\n",
       "      <td>1.51</td>\n",
       "    </tr>\n",
       "    <tr>\n",
       "      <th>9876</th>\n",
       "      <td>0</td>\n",
       "      <td>6.50</td>\n",
       "      <td>2.45</td>\n",
       "    </tr>\n",
       "    <tr>\n",
       "      <th>9880</th>\n",
       "      <td>0</td>\n",
       "      <td>4.01</td>\n",
       "      <td>1.64</td>\n",
       "    </tr>\n",
       "    <tr>\n",
       "      <th>9881</th>\n",
       "      <td>0</td>\n",
       "      <td>3.99</td>\n",
       "      <td>1.52</td>\n",
       "    </tr>\n",
       "  </tbody>\n",
       "</table>\n",
       "<p>733 rows × 3 columns</p>\n",
       "</div>"
      ],
      "text/plain": [
       "      Year Built  Length  Width\n",
       "2              0    3.69   1.42\n",
       "5              0    4.03   1.56\n",
       "11             0    4.13   1.41\n",
       "15             0    3.88   1.49\n",
       "16             0    4.31   1.64\n",
       "...          ...     ...    ...\n",
       "9844           0    3.99   1.52\n",
       "9870           0    4.40   1.51\n",
       "9876           0    6.50   2.45\n",
       "9880           0    4.01   1.64\n",
       "9881           0    3.99   1.52\n",
       "\n",
       "[733 rows x 3 columns]"
      ]
     },
     "execution_count": 14,
     "metadata": {},
     "output_type": "execute_result"
    }
   ],
   "source": [
    "df_outliers"
   ]
  },
  {
   "cell_type": "code",
   "execution_count": 15,
   "id": "b384314a",
   "metadata": {},
   "outputs": [
    {
     "data": {
      "image/png": "[encoded data removed]",
      "text/plain": [
       "<Figure size 640x480 with 1 Axes>"
      ]
     },
     "metadata": {},
     "output_type": "display_data"
    }
   ],
   "source": [
    "# make figures to see better the distribution and the outliers\n",
    "sns.boxplot(x=df['Year Built'])\n",
    "plt.show()\n",
    "# 0 is actually not an outlier but a missing value"
   ]
  },
  {
   "cell_type": "code",
   "execution_count": 16,
   "id": "d58c4a54",
   "metadata": {},
   "outputs": [
    {
     "data": {
      "image/png": "[encoded data removed]",
      "text/plain": [
       "<Figure size 640x480 with 1 Axes>"
      ]
     },
     "metadata": {},
     "output_type": "display_data"
    }
   ],
   "source": [
    "# make figures to see better the distribution and the outliers\n",
    "sns.boxplot(x=df['Length'])\n",
    "plt.show()\n",
    "# no irreal outliers found"
   ]
  },
  {
   "cell_type": "code",
   "execution_count": 17,
   "id": "4d40d9c7",
   "metadata": {},
   "outputs": [
    {
     "data": {
      "image/png": "[encoded data removed]",
      "text/plain": [
       "<Figure size 640x480 with 1 Axes>"
      ]
     },
     "metadata": {},
     "output_type": "display_data"
    }
   ],
   "source": [
    "# make figures to see better the distribution and the outliers\n",
    "sns.boxplot(x=df['Width'])\n",
    "plt.show()\n",
    "# no irreal outliers found"
   ]
  },
  {
   "cell_type": "code",
   "execution_count": 18,
   "id": "b019a243",
   "metadata": {},
   "outputs": [
    {
     "data": {
      "image/png": "[encoded data removed]",
      "text/plain": [
       "<Figure size 640x480 with 1 Axes>"
      ]
     },
     "metadata": {},
     "output_type": "display_data"
    }
   ],
   "source": [
    "# make figures to see better the distribution and the outliers\n",
    "sns.boxplot(x=df['Number of views last 7 days'])\n",
    "plt.show()"
   ]
  },
  {
   "cell_type": "code",
   "execution_count": 19,
   "id": "964ffa58",
   "metadata": {},
   "outputs": [
    {
     "data": {
      "text/plain": [
       "3263"
      ]
     },
     "execution_count": 19,
     "metadata": {},
     "output_type": "execute_result"
    }
   ],
   "source": [
    "df['Number of views last 7 days'].max()\n",
    "# no irreal outliers found"
   ]
  },
  {
   "cell_type": "code",
   "execution_count": 20,
   "id": "d28316b1",
   "metadata": {},
   "outputs": [
    {
     "data": {
      "text/plain": [
       "2008.0"
      ]
     },
     "execution_count": 20,
     "metadata": {},
     "output_type": "execute_result"
    }
   ],
   "source": [
    "# impute the missing 'Year Built' values with the median\n",
    "df['Year Built'].median()"
   ]
  },
  {
   "cell_type": "code",
   "execution_count": 21,
   "id": "95a5e07b",
   "metadata": {},
   "outputs": [
    {
     "data": {
      "text/plain": [
       "1       2020\n",
       "2          0\n",
       "4       2019\n",
       "5          0\n",
       "10      1987\n",
       "        ... \n",
       "9880       0\n",
       "9881       0\n",
       "9882    1984\n",
       "9885    2020\n",
       "9887    2019\n",
       "Name: Year Built, Length: 7019, dtype: int64"
      ]
     },
     "execution_count": 21,
     "metadata": {},
     "output_type": "execute_result"
    }
   ],
   "source": [
    "df['Year Built']"
   ]
  },
  {
   "cell_type": "code",
   "execution_count": 22,
   "id": "24233a24",
   "metadata": {},
   "outputs": [],
   "source": [
    "# impute the missing 'Year Built' values with the median\n",
    "df['Year Built'].replace(0, 2008, inplace=True)\n",
    "\n",
    "#df['col1'].replace(['apple', 'banana'], 'fruit', inplace=True)"
   ]
  },
  {
   "cell_type": "code",
   "execution_count": 23,
   "id": "3520d767",
   "metadata": {},
   "outputs": [
    {
     "data": {
      "image/png": "[encoded data removed]",
      "text/plain": [
       "<Figure size 640x480 with 1 Axes>"
      ]
     },
     "metadata": {},
     "output_type": "display_data"
    }
   ],
   "source": [
    "# make figures to see better the distribution and the outliers\n",
    "sns.boxplot(x=df['Year Built'])\n",
    "plt.show()\n",
    "# 0 is actually not an outlier but a missing value"
   ]
  },
  {
   "cell_type": "code",
   "execution_count": 24,
   "id": "575aec64",
   "metadata": {},
   "outputs": [
    {
     "data": {
      "text/plain": [
       "1       2020\n",
       "2       2008\n",
       "4       2019\n",
       "5       2008\n",
       "10      1987\n",
       "        ... \n",
       "9880    2008\n",
       "9881    2008\n",
       "9882    1984\n",
       "9885    2020\n",
       "9887    2019\n",
       "Name: Year Built, Length: 7019, dtype: int64"
      ]
     },
     "execution_count": 24,
     "metadata": {},
     "output_type": "execute_result"
    }
   ],
   "source": [
    "df['Year Built']"
   ]
  },
  {
   "cell_type": "markdown",
   "id": "99c82722",
   "metadata": {},
   "source": [
    "# 06. Descriptive Analyzis"
   ]
  },
  {
   "cell_type": "code",
   "execution_count": 25,
   "id": "f31d5aa3",
   "metadata": {},
   "outputs": [
    {
     "data": {
      "text/plain": [
       "Index(['Price', 'Boat Type', 'Manufacturer', 'Type', 'Year Built', 'Length',\n",
       "       'Width', 'Material', 'Location', 'Number of views last 7 days'],\n",
       "      dtype='object')"
      ]
     },
     "execution_count": 25,
     "metadata": {},
     "output_type": "execute_result"
    }
   ],
   "source": [
    "df.columns"
   ]
  },
  {
   "cell_type": "code",
   "execution_count": 26,
   "id": "9ad5b6ce",
   "metadata": {},
   "outputs": [
    {
     "data": {
      "text/html": [
       "<div>\n",
       "<style scoped>\n",
       "    .dataframe tbody tr th:only-of-type {\n",
       "        vertical-align: middle;\n",
       "    }\n",
       "\n",
       "    .dataframe tbody tr th {\n",
       "        vertical-align: top;\n",
       "    }\n",
       "\n",
       "    .dataframe thead th {\n",
       "        text-align: right;\n",
       "    }\n",
       "</style>\n",
       "<table border=\"1\" class=\"dataframe\">\n",
       "  <thead>\n",
       "    <tr style=\"text-align: right;\">\n",
       "      <th></th>\n",
       "      <th>Year Built</th>\n",
       "      <th>Length</th>\n",
       "      <th>Width</th>\n",
       "      <th>Number of views last 7 days</th>\n",
       "    </tr>\n",
       "  </thead>\n",
       "  <tbody>\n",
       "    <tr>\n",
       "      <th>count</th>\n",
       "      <td>7019.000000</td>\n",
       "      <td>7019.000000</td>\n",
       "      <td>7019.000000</td>\n",
       "      <td>7019.000000</td>\n",
       "    </tr>\n",
       "    <tr>\n",
       "      <th>mean</th>\n",
       "      <td>2006.867218</td>\n",
       "      <td>11.036492</td>\n",
       "      <td>3.433109</td>\n",
       "      <td>159.909104</td>\n",
       "    </tr>\n",
       "    <tr>\n",
       "      <th>std</th>\n",
       "      <td>12.262252</td>\n",
       "      <td>5.144034</td>\n",
       "      <td>1.119766</td>\n",
       "      <td>167.153110</td>\n",
       "    </tr>\n",
       "    <tr>\n",
       "      <th>min</th>\n",
       "      <td>1901.000000</td>\n",
       "      <td>1.980000</td>\n",
       "      <td>0.860000</td>\n",
       "      <td>13.000000</td>\n",
       "    </tr>\n",
       "    <tr>\n",
       "      <th>25%</th>\n",
       "      <td>2001.000000</td>\n",
       "      <td>7.280000</td>\n",
       "      <td>2.540000</td>\n",
       "      <td>72.000000</td>\n",
       "    </tr>\n",
       "    <tr>\n",
       "      <th>50%</th>\n",
       "      <td>2008.000000</td>\n",
       "      <td>9.950000</td>\n",
       "      <td>3.200000</td>\n",
       "      <td>112.000000</td>\n",
       "    </tr>\n",
       "    <tr>\n",
       "      <th>75%</th>\n",
       "      <td>2018.000000</td>\n",
       "      <td>13.500000</td>\n",
       "      <td>4.180000</td>\n",
       "      <td>185.000000</td>\n",
       "    </tr>\n",
       "    <tr>\n",
       "      <th>max</th>\n",
       "      <td>2021.000000</td>\n",
       "      <td>56.000000</td>\n",
       "      <td>16.000000</td>\n",
       "      <td>3263.000000</td>\n",
       "    </tr>\n",
       "  </tbody>\n",
       "</table>\n",
       "</div>"
      ],
      "text/plain": [
       "        Year Built       Length        Width  Number of views last 7 days\n",
       "count  7019.000000  7019.000000  7019.000000                  7019.000000\n",
       "mean   2006.867218    11.036492     3.433109                   159.909104\n",
       "std      12.262252     5.144034     1.119766                   167.153110\n",
       "min    1901.000000     1.980000     0.860000                    13.000000\n",
       "25%    2001.000000     7.280000     2.540000                    72.000000\n",
       "50%    2008.000000     9.950000     3.200000                   112.000000\n",
       "75%    2018.000000    13.500000     4.180000                   185.000000\n",
       "max    2021.000000    56.000000    16.000000                  3263.000000"
      ]
     },
     "execution_count": 26,
     "metadata": {},
     "output_type": "execute_result"
    }
   ],
   "source": [
    "#descriptive analysis\n",
    "df.describe()"
   ]
  },
  {
   "cell_type": "code",
   "execution_count": 27,
   "id": "fc1cde8e",
   "metadata": {},
   "outputs": [
    {
     "data": {
      "text/plain": [
       "0    2020\n",
       "Name: Year Built, dtype: int64"
      ]
     },
     "execution_count": 27,
     "metadata": {},
     "output_type": "execute_result"
    }
   ],
   "source": [
    "# modus\n",
    "df['Year Built'].mode()"
   ]
  },
  {
   "cell_type": "code",
   "execution_count": 28,
   "id": "618bc16d",
   "metadata": {},
   "outputs": [
    {
     "data": {
      "text/plain": [
       "0    9.0\n",
       "Name: Length, dtype: float64"
      ]
     },
     "execution_count": 28,
     "metadata": {},
     "output_type": "execute_result"
    }
   ],
   "source": [
    "# modus\n",
    "df['Length'].mode()"
   ]
  },
  {
   "cell_type": "code",
   "execution_count": 29,
   "id": "6cd8cf79",
   "metadata": {},
   "outputs": [
    {
     "data": {
      "text/plain": [
       "0    2.5\n",
       "Name: Width, dtype: float64"
      ]
     },
     "execution_count": 29,
     "metadata": {},
     "output_type": "execute_result"
    }
   ],
   "source": [
    "# modus\n",
    "df['Width'].mode()"
   ]
  },
  {
   "cell_type": "code",
   "execution_count": 30,
   "id": "e45600ad",
   "metadata": {},
   "outputs": [
    {
     "data": {
      "text/plain": [
       "0    74\n",
       "Name: Number of views last 7 days, dtype: int64"
      ]
     },
     "execution_count": 30,
     "metadata": {},
     "output_type": "execute_result"
    }
   ],
   "source": [
    "# modus\n",
    "df['Number of views last 7 days'].mode()"
   ]
  },
  {
   "cell_type": "code",
   "execution_count": 35,
   "id": "608f662b",
   "metadata": {},
   "outputs": [
    {
     "data": {
      "text/plain": [
       "Text(0.5, 0, 'Year Built')"
      ]
     },
     "execution_count": 35,
     "metadata": {},
     "output_type": "execute_result"
    },
    {
     "data": {
      "image/png": "[encoded data removed]",
      "text/plain": [
       "<Figure size 640x480 with 1 Axes>"
      ]
     },
     "metadata": {},
     "output_type": "display_data"
    }
   ],
   "source": [
    "#creating histogram\n",
    "df['Year Built'].plot.hist(bins = 25)\n",
    "plt.title('Distribution of Year Built')\n",
    "plt.xlabel('Year Built')\n"
   ]
  },
  {
   "cell_type": "code",
   "execution_count": 37,
   "id": "3bf1436c",
   "metadata": {},
   "outputs": [
    {
     "data": {
      "text/plain": [
       "Text(0.5, 0, 'Length')"
      ]
     },
     "execution_count": 37,
     "metadata": {},
     "output_type": "execute_result"
    },
    {
     "data": {
      "image/png": "[encoded data removed]",
      "text/plain": [
       "<Figure size 640x480 with 1 Axes>"
      ]
     },
     "metadata": {},
     "output_type": "display_data"
    }
   ],
   "source": [
    "#creating histogram\n",
    "df['Length'].plot.hist(bins = 30)\n",
    "plt.title('Distribution of Length')\n",
    "plt.xlabel('Length')"
   ]
  },
  {
   "cell_type": "code",
   "execution_count": 39,
   "id": "798673d9",
   "metadata": {},
   "outputs": [
    {
     "data": {
      "text/plain": [
       "Text(0.5, 0, 'Width')"
      ]
     },
     "execution_count": 39,
     "metadata": {},
     "output_type": "execute_result"
    },
    {
     "data": {
      "image/png": "[encoded data removed]",
      "text/plain": [
       "<Figure size 640x480 with 1 Axes>"
      ]
     },
     "metadata": {},
     "output_type": "display_data"
    }
   ],
   "source": [
    "#creating histogram\n",
    "df['Width'].plot.hist(bins = 30)\n",
    "plt.title('Distribution of Width')\n",
    "plt.xlabel('Width')"
   ]
  },
  {
   "cell_type": "code",
   "execution_count": 42,
   "id": "5de22e58",
   "metadata": {},
   "outputs": [
    {
     "data": {
      "text/plain": [
       "Text(0.5, 0, 'Number of views last 7 days')"
      ]
     },
     "execution_count": 42,
     "metadata": {},
     "output_type": "execute_result"
    },
    {
     "data": {
      "image/png": "[encoded data removed]",
      "text/plain": [
       "<Figure size 640x480 with 1 Axes>"
      ]
     },
     "metadata": {},
     "output_type": "display_data"
    }
   ],
   "source": [
    "#creating histogram\n",
    "df['Number of views last 7 days'].plot.hist(bins = 35)\n",
    "plt.title('Distribution of Number of views last 7 days')\n",
    "plt.xlabel('Number of views last 7 days')"
   ]
  },
  {
   "cell_type": "markdown",
   "id": "a41682d7",
   "metadata": {},
   "source": [
    "# 07. Exporting csv"
   ]
  },
  {
   "cell_type": "code",
   "execution_count": 43,
   "id": "3fa9a29c",
   "metadata": {},
   "outputs": [],
   "source": [
    "# export the dataframe to csv file\n",
    "df.to_csv(r'C:\\Users\\User\\OneDrive\\Dokumentumok\\CF\\Achievement 6\\Boat_Sales\\02 Data\\Prepared Data\\boat_data_clean.cs')"
   ]
  },
  {
   "cell_type": "code",
   "execution_count": null,
   "id": "eb29de88",
   "metadata": {},
   "outputs": [],
   "source": []
  }
 ],
 "metadata": {
  "kernelspec": {
   "display_name": "Python 3 (ipykernel)",
   "language": "python",
   "name": "python3"
  },
  "language_info": {
   "codemirror_mode": {
    "name": "ipython",
    "version": 3
   },
   "file_extension": ".py",
   "mimetype": "text/x-python",
   "name": "python",
   "nbconvert_exporter": "python",
   "pygments_lexer": "ipython3",
   "version": "3.11.5"
  }
 },
 "nbformat": 4,
 "nbformat_minor": 5
}
